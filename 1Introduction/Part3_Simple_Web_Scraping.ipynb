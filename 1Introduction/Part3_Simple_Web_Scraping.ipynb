{
 "cells": [
  {
   "cell_type": "markdown",
   "metadata": {},
   "source": [
    "# Introduction"
   ]
  },
  {
   "cell_type": "markdown",
   "metadata": {},
   "source": [
    "Avant de commencer, parcourer le fichier README.rst"
   ]
  },
  {
   "cell_type": "markdown",
   "metadata": {},
   "source": [
    "# Requête HTTP "
   ]
  },
  {
   "cell_type": "markdown",
   "metadata": {},
   "source": [
    "Un requête HTTP est une requête basé sur le protocole TCP, elle fait partie de la couche application de la couche OSI. Elle permet d'accéder aux données mise à disposition sur une adresse IP (ou url résolue par un DNS) et un port. \n",
    "\n",
    "Les deux ports les plus utilisé dans le web sont le 80 pour les sites en HTTP et le 443 pour les sites en HTTPS. HTTPS est une variable du protocole HTTP basé sur le protocole TLS.\n",
    "\n",
    "Il existe de nombreux types de requêtes selon la convention `REST`: \n",
    "- GET\n",
    "- POST\n",
    "- PUT \n",
    "- DELETE\n",
    "- UPDATE.\n",
    "\n",
    "Dans notre cas nous allons utiliser la plupart du temps des GET et potentiellement des POST. \n",
    "- Le GET permet comme sont nom l'indique de récupérer des informations en fonction de certain paramètres. \n",
    "- Le POST nécéssite un envoie de données pour récupérer des données. Le body du post est, la plupart du temps, envoyé sous la forme d'un objet JSON.\n",
    "\n",
    "Ces requêtes encapsulent un certain nombre de paramètres qui permettent soient d'identifier une provenance et un utilisateur ou de réaliser différentes actions."
   ]
  },
  {
   "cell_type": "code",
   "execution_count": 10,
   "metadata": {},
   "outputs": [],
   "source": [
    "import requests"
   ]
  },
  {
   "cell_type": "code",
   "execution_count": 11,
   "metadata": {},
   "outputs": [
    {
     "data": {
      "text/plain": [
       "200"
      ]
     },
     "execution_count": 11,
     "metadata": {},
     "output_type": "execute_result"
    }
   ],
   "source": [
    "url = \"http://www.esiee.fr/\"\n",
    "response = requests.get(url)\n",
    "response.status_code"
   ]
  },
  {
   "cell_type": "markdown",
   "metadata": {},
   "source": [
    "Il existe deux méthodes pour récupérer le contenu de la page :\n",
    "\n",
    "- `response.text` qui permet de retourner le texte sous la forme d'une chaine de charactères.\n",
    "- `response.content` qui permet de récupérer le contenu de la page sous la forme de bytes"
   ]
  },
  {
   "cell_type": "code",
   "execution_count": 12,
   "metadata": {},
   "outputs": [
    {
     "data": {
      "text/plain": [
       "bytes"
      ]
     },
     "execution_count": 12,
     "metadata": {},
     "output_type": "execute_result"
    }
   ],
   "source": [
    "type(response.content)"
   ]
  },
  {
   "cell_type": "code",
   "execution_count": 13,
   "metadata": {},
   "outputs": [
    {
     "data": {
      "text/plain": [
       "str"
      ]
     },
     "execution_count": 13,
     "metadata": {},
     "output_type": "execute_result"
    }
   ],
   "source": [
    "type(response.text)"
   ]
  },
  {
   "cell_type": "markdown",
   "metadata": {},
   "source": [
    "Pour récupérer les 1000 premiers charactères de la page :"
   ]
  },
  {
   "cell_type": "code",
   "execution_count": 14,
   "metadata": {},
   "outputs": [
    {
     "data": {
      "text/plain": [
       "'<!DOCTYPE html>\\n<html lang=\"fr-FR\">\\n<head>\\n\\n<meta charset=\"utf-8\">\\n<!-- \\n\\tThis website is powered by TYPO3 - inspiring people to share!\\n\\tTYPO3 is a free open source Content Management Framework initially created by Kasper Skaarhoj and licensed under GNU/GPL.\\n\\tTYPO3 is copyright 1998-2023 of Kasper Skaarhoj. Extensions are copyright of their respective owners.\\n\\tInformation and contribution at https://typo3.org/\\n-->\\n\\n\\n\\n<title>ESIEE Paris, l&#039;école de l&#039;innovation technologique | ESIEE Paris</title>\\n<meta name=\"generator\" content=\"TYPO3 CMS\" />\\n<meta name=\"description\" content=\"Rejoignez ESIEE Paris, grande école d&#039;ingénieur dans les domaines des transitions numérique, énergétique et environnementale. Classée dans le groupe A, parmi les meilleures écoles d&#039;ingénieur selon le classement de l&#039;Etudiant. Habilitée par la Commission des Titres d&#039;Ingénieur (CTI). Membre de la Conférence des Grandes Ecoles (CGE). \" />\\n<meta name=\"viewport\" content=\"width=device-width'"
      ]
     },
     "execution_count": 14,
     "metadata": {},
     "output_type": "execute_result"
    }
   ],
   "source": [
    "response.text[0:1000]"
   ]
  },
  {
   "cell_type": "markdown",
   "metadata": {},
   "source": [
    "Pour récupérer les headers HTTP de la réponse :"
   ]
  },
  {
   "cell_type": "code",
   "execution_count": 15,
   "metadata": {},
   "outputs": [
    {
     "data": {
      "text/plain": [
       "{'Date': 'Tue, 21 Nov 2023 12:44:42 GMT', 'Server': 'Apache', 'Content-Language': 'fr', 'Vary': 'Accept-Encoding', 'Content-Encoding': 'gzip', 'X-UA-Compatible': 'IE=edge', 'X-Content-Type-Options': 'nosniff', 'Content-Length': '15693', 'Content-Type': 'text/html; charset=utf-8', 'X-Varnish': '181918 1643369', 'Age': '10', 'Via': '1.1 varnish (Varnish/7.1)', 'Accept-Ranges': 'bytes', 'Connection': 'keep-alive'}"
      ]
     },
     "execution_count": 15,
     "metadata": {},
     "output_type": "execute_result"
    }
   ],
   "source": [
    "response.headers"
   ]
  },
  {
   "cell_type": "markdown",
   "metadata": {},
   "source": [
    "On peut modifier les paramêtres de la requête et/ou ses headers. On peut par exemple ajouter un UserAgent et un timeout de 10 secondes:"
   ]
  },
  {
   "cell_type": "code",
   "execution_count": 16,
   "metadata": {},
   "outputs": [
    {
     "data": {
      "text/plain": [
       "b'<!DOCTYPE html>\\n<html lang=\"fr-FR\">\\n<head>\\n\\n<meta charset=\"utf-8\">\\n<!-- \\n\\tThis website is powered by TYPO3 - inspiring people to share!\\n\\tTYPO3 is a free open source Content Management Framework initially created by Kasper Skaarhoj and licensed under GNU/GPL.\\n\\tTYPO3 is copyright 1998-2023 of Kasper Skaarhoj. Extensions are copyright of their respective owners.\\n\\tInformation and contribution at https://typo3.org/\\n-->\\n\\n\\n\\n<title>ESIEE Paris, l&#039;\\xc3\\xa9cole de l&#039;innovation technologique | ESIEE Paris</title>\\n<meta name=\"generator\" content=\"TYPO3 CMS\" />\\n<meta name=\"description\" content=\"Rejoignez ESIEE Paris, grande \\xc3\\xa9cole d&#039;ing\\xc3\\xa9nieur dans les domaines des transitions num\\xc3\\xa9rique, \\xc3\\xa9nerg\\xc3\\xa9tique et environnementale. Class\\xc3\\xa9e dans le groupe A, parmi les meilleures \\xc3\\xa9coles d&#039;ing\\xc3\\xa9nieur selon le classement de l&#039;Etudiant. Habilit\\xc3\\xa9e par la Commission des Titres d&#039;Ing\\xc3\\xa9nieur (CTI). Membre de la Conf\\xc3\\xa9rence des Grandes Ecoles (CGE). \" />\\n<meta name=\"viewport\" content=\"width='"
      ]
     },
     "execution_count": 16,
     "metadata": {},
     "output_type": "execute_result"
    }
   ],
   "source": [
    "headers = {'User-Agent': 'Mozilla/5.0 (Macintosh; Intel Mac OS X 10_10_1) AppleWebKit/537.36 (KHTML, like Gecko) Chrome/39.0.2171.95 Safari/537.36'}\n",
    "response = requests.get(url, headers=headers, timeout = 10)\n",
    "response.content[0:1000]"
   ]
  },
  {
   "cell_type": "markdown",
   "metadata": {},
   "source": [
    "## Exercice"
   ]
  },
  {
   "cell_type": "code",
   "execution_count": 17,
   "metadata": {},
   "outputs": [],
   "source": [
    "from requests.adapters import HTTPAdapter\n",
    "from requests.packages.urllib3.util.retry import Retry\n",
    "class CustomRequest:\n",
    "    def __init__(self, user_agent=\"MyUserAgent/5.0\", timeout=5, max_retries=3):\n",
    "        self.user_agent = user_agent\n",
    "        self.timeout = timeout\n",
    "        self.max_retries = max_retries\n",
    "        self.session = self._create_session()\n",
    "\n",
    "    def _create_session(self):\n",
    "        session = requests.Session()\n",
    "        retries = Retry(total=self.max_retries,\n",
    "                        backoff_factor=0.1,\n",
    "                        status_forcelist=[500, 502, 503, 504])\n",
    "        adapter = HTTPAdapter(max_retries=retries)\n",
    "        session.mount('http://', adapter)\n",
    "        session.mount('https://', adapter)\n",
    "        return session\n",
    "\n",
    "    def _make_request(self, url):\n",
    "        headers = {'User-Agent': self.user_agent}\n",
    "        try:\n",
    "            response = self.session.get(url, headers=headers, timeout=self.timeout)\n",
    "            response.raise_for_status()\n",
    "            return response\n",
    "        except requests.exceptions.RequestException as e:\n",
    "            print(f\"Error making request: {e}\")\n",
    "            return None"
   ]
  },
  {
   "cell_type": "code",
   "execution_count": 42,
   "metadata": {},
   "outputs": [
    {
     "data": {
      "text/plain": [
       "\"\\n\\n\\n\\nESIEE Paris, l'école de l'innovation technologique | ESIEE Paris\\n\\n\\n\\n\\n\\n\\n\\n\\n\\n\\n\\n\\n\\n\\n\\n\\n\\n\\n\\n\\n\\n\\n\\n\\nAller au contenu\\nAller au menu\\nPlan du site\\n\\n\\n\\n\\n\\n\\n\\nBien choisir son école, c'est aussi la rencontrer  ! Rendez-vous à la prochaine journée portes ouvertes le 9 décembre.\\n\\n\\n\\n\\n\\nMasquer l'alerte\\n\\n\\n\\n\\n\\n\\n\\n\\n\\n\\n\\n\\n\\n\\nBrochuresEspace élèves\\n\\n\\n\\nFr\\n\\n\\n\\n\\nEn\\n\\n\\n\\n\\n\\n\\n\\n\\n\\nAfficherMasquer la recherche\\r\\n\\t\\t\\n\\n\\n\\nSaisissez votre recherche\\xa0:\\n\\nLancer la recherche\\n\\n\\n\\nCandidater\\n\\nAfficherMasquer le menu\\n\\n\\n\\n\\n\\nRetour au menu principalAfficherMasquer le sous menu\\xa0: L'écolePourquoi choisir ESIEE Paris ?AfficherMasquer le sous menu\\xa0: Gouvernance et conseilsGouvernance et conseilsConseil scientifiqueAfficherMasquer le sous menu\\xa0: Départements d'enseignements et de rechercheInformatique et télécommunicationsIngénierie des systèmes cyberphysiquesIngénierie industrielleSanté, énergie et environnement durableManagement, sciences humaines et languesCorps professoralAfficherMasquer le sous menu\\xa0: Salles blanchesSalles blanchesÉquipements\""
      ]
     },
     "execution_count": 42,
     "metadata": {},
     "output_type": "execute_result"
    }
   ],
   "source": [
    "custom_request = CustomRequest()\n",
    "response = custom_request._make_request(url)\n",
    "soup = BeautifulSoup(response.text)\n",
    "soup.text[0:1000]"
   ]
  },
  {
   "cell_type": "markdown",
   "metadata": {},
   "source": [
    "## Exercice 1\n",
    "\n",
    "- Créer une classe Python permettant de faire des requêtes HTTP.\n",
    "- Cette classe doit utiliser toujours le même UserAgent.\n",
    "- Le TimeOut sera spécifié à chaque appelle avec une valeur par défaut.\n",
    "- Un mécanisme de retry sera mis en place de façon recursive.\n",
    "\n",
    "## Exercice 2\n",
    "\n",
    "- Faire une fonction permettant de supprimer tous les espaces supperflus d'une string\n",
    "- Faire une fonction qui prend une string html et renvois une string intelligible (enlever les caractères spéciaux,\n",
    "- Récupérer le domaine en fonction d'un url"
   ]
  },
  {
   "cell_type": "code",
   "execution_count": 23,
   "metadata": {},
   "outputs": [],
   "source": [
    "import re\n",
    "from bs4 import BeautifulSoup\n",
    "from urllib.parse import urlparse\n",
    "\n",
    "def remove_extra_spaces(input_string):\n",
    "    return re.sub(r'\\s+', ' ', input_string).strip()\n",
    "\n",
    "def html_to_text(html_string):\n",
    "    soup = BeautifulSoup(html_string, 'html.parser')\n",
    "    text_content = soup.get_text(separator=' ')\n",
    "    clean_text = re.sub(r'\\s+', ' ', text_content).strip()\n",
    "    return clean_text\n",
    "\n",
    "def get_domain_from_url(url):\n",
    "    parsed_url = urlparse(url)\n",
    "    return parsed_url.netloc"
   ]
  },
  {
   "cell_type": "code",
   "execution_count": 24,
   "metadata": {},
   "outputs": [
    {
     "name": "stdout",
     "output_type": "stream",
     "text": [
      "String après suppression des espaces superflus: Ceci est un exemple avec des espaces superflus.\n"
     ]
    }
   ],
   "source": [
    "original_string = \"   Ceci    est    un    exemple    avec   des   espaces    superflus.   \"\n",
    "processed_string = remove_extra_spaces(original_string)\n",
    "print(\"String après suppression des espaces superflus:\", processed_string)"
   ]
  },
  {
   "cell_type": "code",
   "execution_count": 25,
   "metadata": {},
   "outputs": [
    {
     "name": "stdout",
     "output_type": "stream",
     "text": [
      "Texte intelligible à partir du HTML: Ceci est un exemple avec du HTML .\n"
     ]
    }
   ],
   "source": [
    "html_string = \"<p>Ceci est <b>un exemple</b> avec <a href='#'>du HTML</a>.</p>\"\n",
    "text_result = html_to_text(html_string)\n",
    "print(\"Texte intelligible à partir du HTML:\", text_result)"
   ]
  },
  {
   "cell_type": "code",
   "execution_count": 26,
   "metadata": {},
   "outputs": [
    {
     "name": "stdout",
     "output_type": "stream",
     "text": [
      "Domaine extrait de l'URL: www.example.com\n"
     ]
    }
   ],
   "source": [
    "url_example = \"https://www.example.com/path/to/page\"\n",
    "domain_result = get_domain_from_url(url_example)\n",
    "print(\"Domaine extrait de l'URL:\", domain_result)"
   ]
  },
  {
   "cell_type": "markdown",
   "metadata": {},
   "source": [
    "# Exploitation du HTML  "
   ]
  },
  {
   "cell_type": "markdown",
   "metadata": {},
   "source": [
    "Ici, il faut récupérer le code HTML d'un site web à partir d'une requête. Lorsque vous avez récupéré le texte d'un site il faut le parser. Pour cela, on utilise BeautifulSoup qui permet de transformer la structure HTML en objet Python. Cela permet de récupérer efficacement les données qui nous intéresse.\n",
    "\n",
    "Pour les webmasters, le blocage le plus souvent mis en place et un blocage sur le User-Agent. Le User-Agent est un paramètre intégré dans la requête HTTP réalisé par le Navigateur pour envoyer au front des informations basiques :\n",
    "\n",
    "- la version du Navigateur,\n",
    "- la version de l'OS\n",
    "- Le type de gestionnaire graphique (Gecko)\n",
    "- le type de device utilisé"
   ]
  },
  {
   "cell_type": "markdown",
   "metadata": {},
   "source": [
    "Exemple de User Agent :  \n",
    "\n",
    "`Mozilla/5.0 (Windows NT 6.1; Win64; x64; rv:47.0) Gecko/20100101 Firefox/47.0`"
   ]
  },
  {
   "cell_type": "markdown",
   "metadata": {},
   "source": [
    "Commençons à utiliser `BeautifulSoup`, pour l'installer : "
   ]
  },
  {
   "cell_type": "code",
   "execution_count": 27,
   "metadata": {},
   "outputs": [
    {
     "name": "stdout",
     "output_type": "stream",
     "text": [
      "Requirement already satisfied: bs4 in c:\\users\\alexa\\anaconda3\\envs\\dsiatools\\lib\\site-packages (0.0.1)\n",
      "Requirement already satisfied: beautifulsoup4 in c:\\users\\alexa\\anaconda3\\envs\\dsiatools\\lib\\site-packages (from bs4) (4.12.2)\n",
      "Requirement already satisfied: soupsieve>1.2 in c:\\users\\alexa\\anaconda3\\envs\\dsiatools\\lib\\site-packages (from beautifulsoup4->bs4) (2.5)\n",
      "Requirement already satisfied: lxml in c:\\users\\alexa\\anaconda3\\envs\\dsiatools\\lib\\site-packages (4.9.3)\n"
     ]
    }
   ],
   "source": [
    "!pip install bs4\n",
    "!pip install  lxml"
   ]
  },
  {
   "cell_type": "code",
   "execution_count": 28,
   "metadata": {},
   "outputs": [],
   "source": [
    "import requests\n",
    "from bs4 import BeautifulSoup"
   ]
  },
  {
   "cell_type": "markdown",
   "metadata": {},
   "source": [
    "Pour transformer une requête (requests) en objet BeautifulSoup :"
   ]
  },
  {
   "cell_type": "code",
   "execution_count": 29,
   "metadata": {},
   "outputs": [],
   "source": [
    "response = requests.get(url)\n",
    "soup = BeautifulSoup(response.text)"
   ]
  },
  {
   "cell_type": "markdown",
   "metadata": {},
   "source": [
    "Il se peut qu'un message d'erreur arrive à ce point là si vous n'avez pas la librarie `lxml` installée, pour se faire vous avez juste à lancer la commande suivante : "
   ]
  },
  {
   "cell_type": "code",
   "execution_count": 30,
   "metadata": {},
   "outputs": [
    {
     "name": "stdout",
     "output_type": "stream",
     "text": [
      "Requirement already satisfied: lxml in c:\\users\\alexa\\anaconda3\\envs\\dsiatools\\lib\\site-packages (4.9.3)\n"
     ]
    }
   ],
   "source": [
    "!pip install lxml"
   ]
  },
  {
   "cell_type": "markdown",
   "metadata": {},
   "source": [
    "Pour trouver tous les liens d'une page on récupère la balise `a` qui permet de gérer les liens en HTML  :"
   ]
  },
  {
   "cell_type": "code",
   "execution_count": 31,
   "metadata": {},
   "outputs": [
    {
     "data": {
      "text/plain": [
       "[<a href=\"/#content\">Aller au contenu</a>,\n",
       " <a href=\"/#menu\">Aller au menu</a>,\n",
       " <a href=\"/plan-du-site/\">Plan du site</a>,\n",
       " <a href=\"/nous-rencontrer-1\">Bien choisir son école, c'est aussi la rencontrer  ! Rendez-vous à la prochaine journée portes ouvertes le 9 décembre.</a>,\n",
       " <a href=\"/\"><img alt=\"ESIEE PARIS\" class=\"a42-ac-replace-img\" src=\"/typo3conf/ext/esiee_sitepackage/Resources/Public/imgs/svg/logo-esiee.svg\"/></a>,\n",
       " <a href=\"/brochures-1\">Brochures</a>,\n",
       " <a href=\"/informations/etudiantes-et-etudiants\">Espace élèves</a>,\n",
       " <a href=\"/\" hreflang=\"fr-FR\" title=\"Français\">\n",
       " <span>Fr</span>\n",
       " </a>,\n",
       " <a href=\"/en/\" hreflang=\"en-US\" title=\"English\">\n",
       " <span>En</span>\n",
       " </a>,\n",
       " <a href=\"/candidater-1\">Candidater</a>]"
      ]
     },
     "execution_count": 31,
     "metadata": {},
     "output_type": "execute_result"
    }
   ],
   "source": [
    "soup.find_all(\"a\")[0:10]"
   ]
  },
  {
   "cell_type": "markdown",
   "metadata": {},
   "source": [
    "On peut préciser la classe HTML voulue  pour l'ensemble des `a`:\n",
    "\n",
    "```python\n",
    "soup.find_all(class_=\"<CLASS_NAME>\")[0:10]\n",
    "```\n",
    "\n",
    "Ici par exemple: "
   ]
  },
  {
   "cell_type": "code",
   "execution_count": 40,
   "metadata": {},
   "outputs": [
    {
     "data": {
      "text/plain": [
       "[<header class=\"header\">\n",
       " <div class=\"skip-links\" role=\"region\">\n",
       " <a href=\"/#content\">Aller au contenu</a>\n",
       " <a href=\"/#menu\">Aller au menu</a>\n",
       " <a href=\"/plan-du-site/\">Plan du site</a>\n",
       " </div>\n",
       " <div class=\"alerte\" id=\"esieealert-CC01\" role=\"alert\">\n",
       " <div class=\"container\">\n",
       " <div class=\"d-flex\">\n",
       " <div class=\"d-flex relative\">\n",
       " <svg class=\"iconpack fas fa-bell\" data-iconfig=\"fa6:solid,bell\" fill=\"currentColor\" role=\"img\" viewbox=\"0 0 448 512\"><path d=\"M224 0c-17.7 0-32 14.3-32 32V51.2C119 66 64 130.6 64 208v18.8c0 47-17.3 92.4-48.5 127.6l-7.4 8.3c-8.4 9.4-10.4 22.9-5.3 34.4S19.4 416 32 416H416c12.6 0 24-7.4 29.2-18.9s3.1-25-5.3-34.4l-7.4-8.3C401.3 319.2 384 273.9 384 226.8V208c0-77.4-55-142-128-156.8V32c0-17.7-14.3-32-32-32zm45.3 493.3c12-12 18.7-28.3 18.7-45.3H224 160c0 17 6.7 33.3 18.7 45.3s28.3 18.7 45.3 18.7s33.3-6.7 45.3-18.7z\"></path></svg>\n",
       " <div>\n",
       " <p><a href=\"/nous-rencontrer-1\">Bien choisir son école, c'est aussi la rencontrer  ! Rendez-vous à la prochaine journée portes ouvertes le 9 décembre.</a></p>\n",
       " </div>\n",
       " </div>\n",
       " <button aria-controls=\"esieealert-CC01\" aria-expanded=\"true\">\n",
       " <span class=\"fa-solid fa-circle-xmark\"></span>\n",
       " <span class=\"fa-regular fa-circle-xmark\"></span>\n",
       " <span class=\"sr-only\">Masquer l'alerte</span>\n",
       " </button>\n",
       " </div>\n",
       " </div>\n",
       " </div>\n",
       " <div class=\"main-head\">\n",
       " <div class=\"container\">\n",
       " <div class=\"row\">\n",
       " <div class=\"col-6 col-lg-3 logo\">\n",
       " <h1>\n",
       " <a href=\"/\"><img alt=\"ESIEE PARIS\" class=\"a42-ac-replace-img\" src=\"/typo3conf/ext/esiee_sitepackage/Resources/Public/imgs/svg/logo-esiee.svg\"/></a>\n",
       " </h1>\n",
       " </div>\n",
       " <div class=\"col-6 col-lg-3 content\" id=\"responsive-header\">\n",
       " <div class=\"top-menu\">\n",
       " <ul class=\"quick-access\"><li><a href=\"/brochures-1\">Brochures</a></li><li><a href=\"/informations/etudiantes-et-etudiants\">Espace élèves</a></li></ul>\n",
       " <ul class=\"language\">\n",
       " <li class=\"active\">\n",
       " <a href=\"/\" hreflang=\"fr-FR\" title=\"Français\">\n",
       " <span>Fr</span>\n",
       " </a>\n",
       " </li>\n",
       " <li class=\"\">\n",
       " <a href=\"/en/\" hreflang=\"en-US\" title=\"English\">\n",
       " <span>En</span>\n",
       " </a>\n",
       " </li>\n",
       " </ul>\n",
       " <div data-accessconfig-buttonname=\"\" data-accessconfig-params='{ \"Prefix\" : \"a42-ac\", \"ContainerClass\" : \"\",\"ModalCloseButton\" : \"\",\"ModalTitle\" : \"\",\"FormFieldset\" : \"\",\"FormFieldsetLegend\" : \"\",\"FormRadio\" : \"\"}' id=\"accessconfig\" title=\"Paramètres d'accessibilité\"></div>\n",
       " <div class=\"searchbox\">\n",
       " <button aria-controls=\"searchbox-header-form\" aria-expanded=\"false\" class=\"toggler\">\n",
       " <i class=\"fa-solid fa-magnifying-glass\"></i>\n",
       " <i class=\"fa-solid fa-xmark\"></i>\n",
       " <span class=\"sr-only\">\n",
       " <span class=\"display\">Afficher</span><span class=\"hide\">Masquer</span> la recherche\n",
       " \t\t</span>\n",
       " </button>\n",
       " <form action=\"/rechercher\" data-suggest=\"/rechercher?type=7384\" data-suggest-header=\"Meilleurs résultats\" id=\"searchbox-header-form\" method=\"get\">\n",
       " <div>\n",
       " <label class=\"sr-only\" for=\"searchbox-header-form-input\">Saisissez votre recherche :</label>\n",
       " <input class=\"tx-solr-suggest\" id=\"searchbox-header-form-input\" name=\"tx_solr[q]\" placeholder=\"Rechercher une information\" type=\"text\"/>\n",
       " <button type=\"submit\"><i class=\"fa-solid fa-magnifying-glass\"></i><span class=\"sr-only\">Lancer la recherche</span></button>\n",
       " </div>\n",
       " </form>\n",
       " </div>\n",
       " <ul class=\"button-list\"><li><a href=\"/candidater-1\">Candidater</a></li></ul>\n",
       " <button aria-controls=\"responsive-header\" aria-expanded=\"false\" class=\"menu-toggler\">\n",
       " <span class=\"sr-only\"><span class=\"display\">Afficher</span><span class=\"hide\">Masquer</span> le menu</span>\n",
       " <span class=\"fa-solid fa-bars\"></span>\n",
       " <span class=\"fa-regular fa-circle-xmark\"></span>\n",
       " </button>\n",
       " </div>\n",
       " <nav class=\"menu\">\n",
       " <button class=\"main-toggler\">Retour au menu principal</button><ul class=\"align-self-end\"><li><button aria-controls=\"submenu-40\" aria-expanded=\"false\" class=\"toggler\"><span class=\"sr-only\"><span class=\"display\">Afficher</span><span class=\"hide\">Masquer</span> le sous menu : </span>L'école</button><div class=\"submenu\" id=\"submenu-40\"><div class=\"wrapper\"><div class=\"container\"><ul><li class=\"first-item\"><a href=\"/lecole/pourquoi-choisir-esiee-paris\">Pourquoi choisir ESIEE Paris ?</a></li><li><button aria-controls=\"submenu-563\" aria-expanded=\"false\" class=\"toggler\"><span class=\"sr-only\"><span class=\"display\">Afficher</span><span class=\"hide\">Masquer</span> le sous menu : </span>Gouvernance et conseils</button><div class=\"submenu\" id=\"submenu-563\"><div class=\"container\"><ul><li><a href=\"/lecole/gouvernance-et-conseils/gouvernance-et-conseils\">Gouvernance et conseils</a></li><li><a href=\"/lecole/gouvernance-et-conseils/conseil-scientifique\">Conseil scientifique</a></li></ul></div></div></li><li><button aria-controls=\"submenu-65\" aria-expanded=\"false\" class=\"toggler\"><span class=\"sr-only\"><span class=\"display\">Afficher</span><span class=\"hide\">Masquer</span> le sous menu : </span>Départements d'enseignements et de recherche</button><div class=\"submenu\" id=\"submenu-65\"><div class=\"container\"><ul><li><a href=\"/lecole/departements-denseignements-et-de-recherche/informatique-et-telecommunications\">Informatique et télécommunications</a></li><li><a href=\"/lecole/departements-denseignements-et-de-recherche/ingenierie-des-systemes-cyberphysiques\">Ingénierie des systèmes cyberphysiques</a></li><li><a href=\"/lecole/departements-denseignements-et-de-recherche/ingenierie-industrielle\">Ingénierie industrielle</a></li><li><a href=\"/lecole/departements-denseignements-et-de-recherche/sante-energie-et-environnement-durable\">Santé, énergie et environnement durable</a></li><li><a href=\"/lecole/departements-denseignements-et-de-recherche/management-sciences-humaines-et-langues\">Management, sciences humaines et langues</a></li></ul></div></div></li><li><a href=\"/lecole/corps-professoral\">Corps professoral</a></li><li><button aria-controls=\"submenu-67\" aria-expanded=\"false\" class=\"toggler\"><span class=\"sr-only\"><span class=\"display\">Afficher</span><span class=\"hide\">Masquer</span> le sous menu : </span>Salles blanches</button><div class=\"submenu\" id=\"submenu-67\"><div class=\"container\"><ul><li><a href=\"/lecole/salles-blanches/salles-blanches\">Salles blanches</a></li><li><a href=\"/lecole/salles-blanches/equipements-et-procedes\">Équipements et procédés</a></li><li><a href=\"/lecole/salles-blanches/formation\">Formation</a></li><li><a href=\"/lecole/salles-blanches/recherche\">Recherche</a></li><li><a href=\"/lecole/salles-blanches/collaborations-industrielles\">Collaborations industrielles</a></li></ul></div></div></li><li><button aria-controls=\"submenu-325\" aria-expanded=\"false\" class=\"toggler\"><span class=\"sr-only\"><span class=\"display\">Afficher</span><span class=\"hide\">Masquer</span> le sous menu : </span>Alumni</button><div class=\"submenu\" id=\"submenu-325\"><div class=\"container\"><ul><li><a href=\"/lecole/alumni/le-reseau\">Le réseau</a></li><li><a href=\"/lecole/alumni/wall-of-fame\">Wall of fame</a></li></ul></div></div></li><li><a href=\"/lecole/visite-virtuelle-esiee-paris\">Visite virtuelle ESIEE Paris</a></li><li><a href=\"/lecole/esiee-paris-recrute\">ESIEE Paris recrute</a></li><li><a href=\"/lecole/location-despaces\">Location d'espaces</a></li></ul><div><button aria-controls=\"submenu-40\" aria-expanded=\"false\" class=\"toggler close-only\"><span class=\"sr-only\">fermer le sous menu :L'école</span></button></div></div></div></div></li><li><button aria-controls=\"submenu-16\" aria-expanded=\"false\" class=\"toggler\"><span class=\"sr-only\"><span class=\"display\">Afficher</span><span class=\"hide\">Masquer</span> le sous menu : </span>Formations</button><div class=\"submenu\" id=\"submenu-16\"><div class=\"wrapper\"><div class=\"container\"><ul><li class=\"first-item\"><a href=\"/formations/les-formations-esiee-paris\">Les formations ESIEE Paris</a></li><li><button aria-controls=\"submenu-136\" aria-expanded=\"false\" class=\"toggler\"><span class=\"sr-only\"><span class=\"display\">Afficher</span><span class=\"hide\">Masquer</span> le sous menu : </span>Ingénieur</button><div class=\"submenu\" id=\"submenu-136\"><div class=\"container\"><ul><li><a href=\"/formations/ingenieur/ingenieur-a-esiee-paris\">Ingénieur à ESIEE Paris</a></li><li><a href=\"/formations/ingenieur/le-premier-cycle\">Le premier cycle</a></li><li><a href=\"/formations/ingenieur/le-cycle-ingenieur\">Le cycle ingénieur</a></li><li><a href=\"/formations/ingenieur/double-diplomes\">Double-diplômes</a></li><li><button aria-controls=\"submenu-145\" aria-expanded=\"false\" class=\"toggler\"><span class=\"sr-only\"><span class=\"display\">Afficher</span><span class=\"hide\">Masquer</span> le sous menu : </span>Filières</button><div class=\"submenu\" id=\"submenu-145\"><div class=\"container\"><ul><li><a href=\"/formations/ingenieur/filieres/nos-filieres\">Nos filières</a></li><li><a href=\"/formations/ingenieur/filieres/informatique\">Informatique</a></li><li><a href=\"/formations/ingenieur/filieres/cybersecurite\">Cybersécurité</a></li><li><a href=\"/formations/ingenieur/filieres/data-science-et-intelligence-artificielle\">Data science et intelligence artificielle</a></li><li><a href=\"/formations/ingenieur/filieres/artificial-intelligence-and-cybersecurity\">Artificial intelligence and cybersecurity</a></li><li><a href=\"/formations/ingenieur/filieres/systemes-embarques\">Systèmes embarqués</a></li><li><a href=\"/formations/ingenieur/filieres/systemes-electroniques-intelligents\">Systèmes électroniques intelligents</a></li><li><a href=\"/formations/ingenieur/filieres/genie-industriel\">Génie industriel</a></li><li><a href=\"/formations/ingenieur/filieres/biotechnologies-et-e-sante\">Biotechnologies et e-santé</a></li><li><a href=\"/formations/ingenieur/filieres/energie\">Energie</a></li><li><a href=\"/formations/ingenieur/filieres/imac\">IMAC</a></li></ul></div></div></li><li><a href=\"/formations/ingenieur/stages\">Stages</a></li><li><a href=\"/formations/ingenieur/insertion-professionnelle\">Insertion professionnelle</a></li><li><a href=\"/formations/ingenieur/frais-de-scolarite-et-aides-financieres\">Frais de scolarité et aides financières</a></li></ul></div></div></li><li><button aria-controls=\"submenu-137\" aria-expanded=\"false\" class=\"toggler\"><span class=\"sr-only\"><span class=\"display\">Afficher</span><span class=\"hide\">Masquer</span> le sous menu : </span>Ingénieur par apprentissage</button><div class=\"submenu\" id=\"submenu-137\"><div class=\"container\"><ul><li><a href=\"/formations/ingenieur-par-apprentissage/devenir-ingenieur-par-apprentissage\">Devenir ingénieur par apprentissage</a></li><li><a href=\"/formations/ingenieur-par-apprentissage/informatique-et-applications\">Informatique et applications</a></li><li><a href=\"/formations/ingenieur-par-apprentissage/informatique-design-architecture-et-developpement\">Informatique, design, architecture et développement</a></li><li><a href=\"/formations/ingenieur-par-apprentissage/reseaux-et-securite\">Réseaux et sécurité</a></li><li><a href=\"/formations/ingenieur-par-apprentissage/electronique-et-informatique\">Electronique et informatique</a></li><li><a href=\"/formations/ingenieur-par-apprentissage/systemes-embarques\">Systèmes embarqués</a></li><li><a href=\"/formations/ingenieur-par-apprentissage/genie-industriel\">Génie industriel</a></li><li><a href=\"/formations/ingenieur-par-apprentissage/genie-mecanique\">Génie mécanique</a></li><li><a href=\"/formations/ingenieur-par-apprentissage/maintenance-et-fiabilite-des-processus-industriels\">Maintenance et fiabilité des processus industriels</a></li><li><a href=\"/formations/ingenieur-par-apprentissage/energies\">Énergies</a></li><li><a href=\"/formations/ingenieur-par-apprentissage/genie-civil\">Génie civil</a></li><li><a href=\"/formations/ingenieur-par-apprentissage/diplome-universitaire-du\">Diplôme universitaire - DU</a></li></ul></div></div></li><li><a href=\"/formations/bachelor\">Bachelor</a></li><li><button aria-controls=\"submenu-139\" aria-expanded=\"false\" class=\"toggler\"><span class=\"sr-only\"><span class=\"display\">Afficher</span><span class=\"hide\">Masquer</span> le sous menu : </span>Programmes internationaux</button><div class=\"submenu\" id=\"submenu-139\"><div class=\"container\"><ul><li><a href=\"/formations/programmes-internationaux/programmes-internationaux\">Programmes internationaux</a></li><li><a href=\"/formations/programmes-internationaux/filliere-artificial-intelligence-and-cybersecurity\">Fillière artificial intelligence and cybersecurity</a></li><li><a href=\"/formations/programmes-internationaux/msc-management-of-technology-information-systems\">M.Sc Management of technology - Information systems</a></li></ul></div></div></li><li><a href=\"/formations/licence-professionnelle\">Licence professionnelle</a></li><li><button aria-controls=\"submenu-140\" aria-expanded=\"false\" class=\"toggler\"><span class=\"sr-only\"><span class=\"display\">Afficher</span><span class=\"hide\">Masquer</span> le sous menu : </span>Formation continue</button><div class=\"submenu\" id=\"submenu-140\"><div class=\"container\"><ul><li><a href=\"/formations/formation-continue/formation-continue\">Formation continue</a></li><li><button aria-controls=\"submenu-173\" aria-expanded=\"false\" class=\"toggler\"><span class=\"sr-only\"><span class=\"display\">Afficher</span><span class=\"hide\">Masquer</span> le sous menu : </span>Programmes courts salles blanches</button><div class=\"submenu\" id=\"submenu-173\"><div class=\"container\"><ul><li><a href=\"/formations/formation-continue/programmes-courts-salles-blanches/decouverte-des-technologies-de-salles-blanches\">Découverte des technologies de salles blanches</a></li><li><a href=\"/formations/formation-continue/programmes-courts-salles-blanches/initiation-aux-technologies-de-microfabrication\">Initiation aux technologies de microfabrication</a></li></ul></div></div></li></ul></div></div></li></ul><div><button aria-controls=\"submenu-16\" aria-expanded=\"false\" class=\"toggler close-only\"><span class=\"sr-only\">fermer le sous menu :Formations</span></button></div></div></div></div></li><li><button aria-controls=\"submenu-82\" aria-expanded=\"false\" class=\"toggler\"><span class=\"sr-only\"><span class=\"display\">Afficher</span><span class=\"hide\">Masquer</span> le sous menu : </span>Recherche</button><div class=\"submenu\" id=\"submenu-82\"><div class=\"wrapper\"><div class=\"container\"><ul><li class=\"first-item\"><a href=\"/recherche/la-recherche-a-esiee-paris\">La recherche à ESIEE Paris</a></li><li><a href=\"/recherche/3-axes-de-recherche\">3 axes de recherche</a></li><li><a href=\"/recherche/projets-de-recherche\">Projets de recherche</a></li><li><a href=\"/recherche/laboratoires\">Laboratoires</a></li><li><a href=\"/recherche/publications\">Publications</a></li><li><a href=\"/recherche/plateformes-et-equipements\">Plateformes et équipements</a></li><li><a href=\"/recherche/partenariats-entreprise\">Partenariats entreprise</a></li><li><a href=\"/recherche/se-former-a-la-recherche\">Se former à la recherche</a></li></ul><div><button aria-controls=\"submenu-82\" aria-expanded=\"false\" class=\"toggler close-only\"><span class=\"sr-only\">fermer le sous menu :Recherche</span></button></div></div></div></div></li><li><button aria-controls=\"submenu-94\" aria-expanded=\"false\" class=\"toggler\"><span class=\"sr-only\"><span class=\"display\">Afficher</span><span class=\"hide\">Masquer</span> le sous menu : </span>Vie de campus</button><div class=\"submenu\" id=\"submenu-94\"><div class=\"wrapper\"><div class=\"container\"><ul><li class=\"first-item\"><a href=\"/vie-de-campus/la-vie-sur-le-campus\">La vie sur le campus</a></li><li><button aria-controls=\"submenu-96\" aria-expanded=\"false\" class=\"toggler\"><span class=\"sr-only\"><span class=\"display\">Afficher</span><span class=\"hide\">Masquer</span> le sous menu : </span>Services aux élèves</button><div class=\"submenu\" id=\"submenu-96\"><div class=\"container\"><ul><li><a href=\"/vie-de-campus/services-aux-eleves/financer-vos-etudes\">Financer vos études</a></li><li><a href=\"/vie-de-campus/services-aux-eleves/amenagements-detude\">Aménagements d'étude</a></li><li><a href=\"/vie-de-campus/services-aux-eleves/assistetud-et-relais-handicap\">Assist'Étud et relais Handicap</a></li><li><a href=\"/vie-de-campus/services-aux-eleves/sante\">Santé</a></li><li><a href=\"/vie-de-campus/services-aux-eleves/logements\">Logements</a></li></ul></div></div></li><li><a href=\"/vie-de-campus/vie-associative-et-culturelle\">Vie associative et culturelle</a></li><li><button aria-controls=\"submenu-98\" aria-expanded=\"false\" class=\"toggler\"><span class=\"sr-only\"><span class=\"display\">Afficher</span><span class=\"hide\">Masquer</span> le sous menu : </span>Ressources</button><div class=\"submenu\" id=\"submenu-98\"><div class=\"container\"><ul><li><a href=\"/vie-de-campus/ressources/ressources-numeriques\">Ressources numériques</a></li><li><a href=\"/vie-de-campus/ressources/espace-de-travail-partage\">Espace de travail partagé</a></li><li><a href=\"/vie-de-campus/ressources/centre-de-langues\">Centre de langues</a></li><li><a href=\"/vie-de-campus/ressources/laboratoires-denseignement\">Laboratoires d'enseignement</a></li><li><a href=\"/vie-de-campus/ressources/ordinateurs-portables\">Ordinateurs portables</a></li></ul></div></div></li><li><a href=\"/vie-de-campus/restauration\">Restauration</a></li><li><a href=\"/vie-de-campus/sport\">Sport</a></li></ul><div><button aria-controls=\"submenu-94\" aria-expanded=\"false\" class=\"toggler close-only\"><span class=\"sr-only\">fermer le sous menu :Vie de campus</span></button></div></div></div></div></li><li><button aria-controls=\"submenu-110\" aria-expanded=\"false\" class=\"toggler\"><span class=\"sr-only\"><span class=\"display\">Afficher</span><span class=\"hide\">Masquer</span> le sous menu : </span>International</button><div class=\"submenu\" id=\"submenu-110\"><div class=\"wrapper\"><div class=\"container\"><ul><li class=\"first-item\"><a href=\"/international/une-large-ouverture-a-linternational\">Une large ouverture à l'international</a></li><li><a href=\"/international/partenaires-academiques\">Partenaires académiques</a></li><li><a href=\"/international/etudiants-en-echange\">Etudiants en échange</a></li><li><a href=\"/international/partir-etudier-a-linternational\">Partir étudier à l'international</a></li><li><a href=\"/formations/programmes-internationaux/programmes-internationaux\">Programmes internationaux</a></li><li><a href=\"/international/organiser-votre-sejour-a-esiee-paris\">Organiser votre séjour à ESIEE Paris</a></li><li><a href=\"/international/campus-a-letranger\">Campus à l'étranger</a></li></ul><div><button aria-controls=\"submenu-110\" aria-expanded=\"false\" class=\"toggler close-only\"><span class=\"sr-only\">fermer le sous menu :International</span></button></div></div></div></div></li><li><button aria-controls=\"submenu-116\" aria-expanded=\"false\" class=\"toggler\"><span class=\"sr-only\"><span class=\"display\">Afficher</span><span class=\"hide\">Masquer</span> le sous menu : </span>Entreprises</button><div class=\"submenu\" id=\"submenu-116\"><div class=\"wrapper\"><div class=\"container\"><ul><li class=\"first-item\"><a href=\"/entreprises/entreprises\">Entreprises</a></li><li><a href=\"http://esiee.jobteaser.com/fr/recruiter_account/job_offers\" target=\"_blank\">Déposez une offre</a></li><li><a href=\"/entreprises/entreprises-partenaires\">Entreprises partenaires</a></li><li><a href=\"/entreprises/devenez-partenaire\">Devenez partenaire</a></li><li><button aria-controls=\"submenu-120\" aria-expanded=\"false\" class=\"toggler\"><span class=\"sr-only\"><span class=\"display\">Afficher</span><span class=\"hide\">Masquer</span> le sous menu : </span>Recrutez des élèves</button><div class=\"submenu\" id=\"submenu-120\"><div class=\"container\"><ul><li><a href=\"/entreprises/recrutez-des-eleves/recrutez-vos-stagiaires\">Recrutez vos stagiaires</a></li><li><a href=\"/entreprises/recrutez-des-eleves/recrutez-vos-apprentis\">Recrutez vos apprentis</a></li></ul></div></div></li><li><a href=\"/entreprises/developpez-vos-projets-technologiques\">Développez vos projets technologiques</a></li><li><button aria-controls=\"submenu-263\" aria-expanded=\"false\" class=\"toggler\"><span class=\"sr-only\"><span class=\"display\">Afficher</span><span class=\"hide\">Masquer</span> le sous menu : </span>Soutenez ESIEE Paris</button><div class=\"submenu\" id=\"submenu-263\"><div class=\"container\"><ul><li><a href=\"/entreprises/soutenez-esiee-paris/devenez-mecene\">Devenez mécène</a></li><li><a href=\"/entreprises/soutenez-esiee-paris/versez-votre-taxe-dapprentissage\">Versez votre taxe d'apprentissage</a></li></ul></div></div></li><li><a href=\"/formations/formation-continue/formation-continue\">Formez vos collaborateurs</a></li></ul><div><button aria-controls=\"submenu-116\" aria-expanded=\"false\" class=\"toggler close-only\"><span class=\"sr-only\">fermer le sous menu :Entreprises</span></button></div></div></div></div></li></ul>\n",
       " <ul class=\"quick-access\"><li><a href=\"/brochures-1\">Brochures</a></li><li><a href=\"/informations/etudiantes-et-etudiants\">Espace élèves</a></li></ul>\n",
       " </nav>\n",
       " </div>\n",
       " </div>\n",
       " </div>\n",
       " </div>\n",
       " </header>]"
      ]
     },
     "execution_count": 40,
     "metadata": {},
     "output_type": "execute_result"
    }
   ],
   "source": [
    "soup.find_all(class_=\"header\")[0:5]"
   ]
  },
  {
   "cell_type": "markdown",
   "metadata": {},
   "source": [
    "Pour récupérer le text sans les balises HTML :"
   ]
  },
  {
   "cell_type": "code",
   "execution_count": 41,
   "metadata": {},
   "outputs": [
    {
     "data": {
      "text/plain": [
       "\"\\n\\n\\n\\nESIEE Paris, l'école de l'innovation technologique | ESIEE Paris\\n\\n\\n\\n\\n\\n\\n\\n\\n\\n\\n\\n\\n\\n\\n\\n\\n\\n\\n\\n\\n\\n\\n\\n\\nAller au contenu\\nAller au menu\\nPlan du site\\n\\n\\n\\n\\n\\n\\n\\nBien choisir son école, c'est aussi la rencontrer  ! Rendez-vous à la prochaine journée portes ouvertes le 9 décembre.\\n\\n\\n\\n\\n\\nMasquer l'alerte\\n\\n\\n\\n\\n\\n\\n\\n\\n\\n\\n\\n\\n\\n\\nBrochuresEspace élèves\\n\\n\\n\\nFr\\n\\n\\n\\n\\nEn\\n\\n\\n\\n\\n\\n\\n\\n\\n\\nAfficherMasquer la recherche\\r\\n\\t\\t\\n\\n\\n\\nSaisissez votre recherche\\xa0:\\n\\nLancer la recherche\\n\\n\\n\\nCandidater\\n\\nAfficherMasquer le menu\\n\\n\\n\\n\\n\\nRetour au menu principalAfficherMasquer le sous menu\\xa0: L'écolePourquoi choisir ESIEE Paris ?AfficherMasquer le sous menu\\xa0: Gouvernance et conseilsGouvernance et conseilsConseil scientifiqueAfficherMasquer le sous menu\\xa0: Départements d'enseignements et de rechercheInformatique et télécommunicationsIngénierie des systèmes cyberphysiquesIngénierie industrielleSanté, énergie et environnement durableManagement, sciences humaines et languesCorps professoralAfficherMasquer le sous menu\\xa0: Salles blanchesSalles blanchesÉquipements\""
      ]
     },
     "execution_count": 41,
     "metadata": {},
     "output_type": "execute_result"
    }
   ],
   "source": [
    "soup.text[0:1000]"
   ]
  },
  {
   "cell_type": "markdown",
   "metadata": {},
   "source": [
    "## Exercice\n",
    "### Exercice 3\n",
    "\n",
    "Améliorer la classe développé précédemment.\n",
    "\n",
    "- Ajouter une méthode pour récupérer l'objet soup d'un url\n",
    "- Récupérer une liste de User Agent et effectuer une rotation aléatoire sur celui à utiliser\n",
    "- Utiliser cette classe pour parser une page HTML et récupérer : le titre, tous les H1 (si ils existent), les liens vers les images, les liens sortants vers d'autres sites, et le texte principal.\n",
    "\n",
    "Parsing d'un sitemaps pour récupérer une listes de liens avec les informations disponibles. -> Stocker dans un dictionnaire et dans un fichier JSON local."
   ]
  },
  {
   "cell_type": "code",
   "execution_count": 43,
   "metadata": {},
   "outputs": [],
   "source": [
    "import requests\n",
    "from requests.adapters import HTTPAdapter\n",
    "from requests.packages.urllib3.util.retry import Retry\n",
    "from bs4 import BeautifulSoup\n",
    "import random\n",
    "import json\n",
    "\n",
    "class CustomRequest:\n",
    "    def __init__(self, user_agents=None, timeout=5, max_retries=3):\n",
    "        self.user_agents = user_agents or [\"UserAgent1/1.0\", \"UserAgent2/2.0\", \"UserAgent3/3.0\"]\n",
    "        self.timeout = timeout\n",
    "        self.max_retries = max_retries\n",
    "        self.session = self._create_session()\n",
    "\n",
    "    def _create_session(self):\n",
    "        session = requests.Session()\n",
    "        retries = Retry(total=self.max_retries, backoff_factor=0.1, status_forcelist=[500, 502, 503, 504])\n",
    "        adapter = HTTPAdapter(max_retries=retries)\n",
    "        session.mount('http://', adapter)\n",
    "        session.mount('https://', adapter)\n",
    "        return session\n",
    "\n",
    "    def _make_request(self, url):\n",
    "        headers = {'User-Agent': random.choice(self.user_agents)}\n",
    "        try:\n",
    "            response = self.session.get(url, headers=headers, timeout=self.timeout)\n",
    "            response.raise_for_status()\n",
    "            return response\n",
    "        except requests.exceptions.RequestException as e:\n",
    "            print(f\"Error making request: {e}\")\n",
    "            return None\n",
    "\n",
    "    def get_soup_from_url(self, url):\n",
    "        response = self._make_request(url)\n",
    "        if response:\n",
    "            return BeautifulSoup(response.content, 'html.parser')\n",
    "        return None\n",
    "\n",
    "    def parse_html_page(self, url):\n",
    "        soup = self.get_soup_from_url(url)\n",
    "        if soup:\n",
    "            title = soup.title.text.strip() if soup.title else None\n",
    "            h1_tags = [h1.text.strip() for h1 in soup.find_all('h1')]\n",
    "            image_links = [img['src'] for img in soup.find_all('img', src=True)]\n",
    "            outgoing_links = [a['href'] for a in soup.find_all('a', href=True) if 'http' in a['href']]\n",
    "            main_text = soup.get_text(separator=' ').strip()\n",
    "\n",
    "            parsed_data = {\n",
    "                'title': title,\n",
    "                'h1_tags': h1_tags,\n",
    "                'image_links': image_links,\n",
    "                'outgoing_links': outgoing_links,\n",
    "                'main_text': main_text\n",
    "            }\n",
    "\n",
    "            return parsed_data\n",
    "        return None\n",
    "\n",
    "    def parse_sitemap(self, sitemap_url):\n",
    "        soup = self.get_soup_from_url(sitemap_url)\n",
    "        if soup:\n",
    "            urls = [loc.text for loc in soup.find_all('loc')]\n",
    "            data = {}\n",
    "            for url in urls:\n",
    "                parsed_data = self.parse_html_page(url)\n",
    "                data[url] = parsed_data\n",
    "\n",
    "            # Save the data to a local JSON file\n",
    "            with open('sitemap_data.json', 'w') as json_file:\n",
    "                json.dump(data, json_file, indent=2)"
   ]
  },
  {
   "cell_type": "code",
   "execution_count": 46,
   "metadata": {},
   "outputs": [
    {
     "name": "stdout",
     "output_type": "stream",
     "text": [
      "{'title': \"ESIEE Paris, l'école de l'innovation technologique | ESIEE Paris\", 'h1_tags': [''], 'image_links': ['/typo3conf/ext/esiee_sitepackage/Resources/Public/imgs/svg/logo-esiee.svg', 'data:image/gif;base64,R0lGODlhAQABAIAAAP///wAAACH5BAEAAAAALAAAAAABAAEAAAICRAEAOw==', '/fileadmin/_processed_/2/4/csm_ESIEE-Home-Main-Picture_ff09bd6b6e.jpg', 'data:image/gif;base64,R0lGODlhAQABAIAAAP///wAAACH5BAEAAAAALAAAAAABAAEAAAICRAEAOw==', '/fileadmin/_processed_/1/e/csm_eleves-groupe-galerie-1344x840_0f06698b28.jpg', 'data:image/gif;base64,R0lGODlhAQABAIAAAP///wAAACH5BAEAAAAALAAAAAABAAEAAAICRAEAOw==', '/fileadmin/_processed_/6/2/csm_forum-descartes-rue-2019-1344x840_eb74cce508.jpg', 'data:image/gif;base64,R0lGODlhAQABAIAAAP///wAAACH5BAEAAAAALAAAAAABAAEAAAICRAEAOw==', '/fileadmin/_processed_/c/8/csm_illustration-concours-jeunes-talents-orange-2023-1344x840_b06c9809ff.jpg', 'data:image/gif;base64,R0lGODlhAQABAIAAAP///wAAACH5BAEAAAAALAAAAAABAAEAAAICRAEAOw==', '/fileadmin/_processed_/c/1/csm_actu-classement-logo-ranking-1344x840_ec9b640c4f.jpg', 'data:image/gif;base64,R0lGODlhAQABAIAAAP///wAAACH5BAEAAAAALAAAAAABAAEAAAICRAEAOw==', '/fileadmin/_processed_/3/6/csm_eleves-esiee-etudes-1344x840_e502c91148.jpg', 'data:image/gif;base64,R0lGODlhAQABAIAAAP///wAAACH5BAEAAAAALAAAAAABAAEAAAICRAEAOw==', '/fileadmin/_processed_/8/a/csm_trophee-des-femmes-prix-debut-prometteur-2023-1344x840_72d113e61b.jpg', 'data:image/gif;base64,R0lGODlhAQABAIAAAP///wAAACH5BAEAAAAALAAAAAABAAEAAAICRAEAOw==', '/fileadmin/_processed_/9/5/csm_journee-immersion-1344x756_607813ddcf.jpg', 'data:image/gif;base64,R0lGODlhAQABAIAAAP///wAAACH5BAEAAAAALAAAAAABAAEAAAICRAEAOw==', '/fileadmin/_processed_/4/5/csm_game-jam-esiee-paris_1eab0ad4b5.png', 'data:image/gif;base64,R0lGODlhAQABAIAAAP///wAAACH5BAEAAAAALAAAAAABAAEAAAICRAEAOw==', '/fileadmin/_processed_/2/5/csm_conference-ia-science-trash-1344x840_fb17ec22a3.jpg', 'data:image/gif;base64,R0lGODlhAQABAIAAAP///wAAACH5BAEAAAAALAAAAAABAAEAAAICRAEAOw==', '/fileadmin/_processed_/f/0/csm_illustration-ingenieuses-2023-1344x840_85927aa5e2.jpg', 'data:image/gif;base64,R0lGODlhAQABAIAAAP///wAAACH5BAEAAAAALAAAAAABAAEAAAICRAEAOw==', '/fileadmin/_processed_/6/0/csm_illustration-best-paper-award-1344x840_6724a73fb6.jpg', 'data:image/gif;base64,R0lGODlhAQABAIAAAP///wAAACH5BAEAAAAALAAAAAABAAEAAAICRAEAOw==', '/fileadmin/_processed_/5/d/csm_signature-partenariat-orange-mai-2023-1344x840_eece6c482f.jpg', 'data:image/gif;base64,R0lGODlhAQABAIAAAP///wAAACH5BAEAAAAALAAAAAABAAEAAAICRAEAOw==', '/fileadmin/_processed_/b/0/csm_camille-fahy-cycliste-1344x756_af0832b451.jpg', 'data:image/gif;base64,R0lGODlhAQABAIAAAP///wAAACH5BAEAAAAALAAAAAABAAEAAAICRAEAOw==', '/fileadmin/_processed_/3/2/csm_olivier-francais-1344x840_d151119c68.jpg', 'data:image/gif;base64,R0lGODlhAQABAIAAAP///wAAACH5BAEAAAAALAAAAAABAAEAAAICRAEAOw==', '/fileadmin/_processed_/3/c/csm_logo-actu-cwur-1344x840_96aa069e0e.jpg', 'data:image/gif;base64,R0lGODlhAQABAIAAAP///wAAACH5BAEAAAAALAAAAAABAAEAAAICRAEAOw==', '/fileadmin/_processed_/e/a/csm_story-classements-540x960_1f891460f0.jpg', 'data:image/gif;base64,R0lGODlhAQABAIAAAP///wAAACH5BAEAAAAALAAAAAABAAEAAAICRAEAOw==', '/fileadmin/_processed_/b/4/csm_carte-grand-paris-1344x756_f1f626f07b.jpg', 'data:image/gif;base64,R0lGODlhAQABAIAAAP///wAAACH5BAEAAAAALAAAAAABAAEAAAICRAEAOw==', '/fileadmin/_processed_/7/0/csm_story-feminisation-540x960_6e3222ad89.jpg', 'data:image/gif;base64,R0lGODlhAQABAIAAAP///wAAACH5BAEAAAAALAAAAAABAAEAAAICRAEAOw==', '/fileadmin/_processed_/1/3/csm_test-T20-image_2c0b9a4f93.png', 'data:image/gif;base64,R0lGODlhAQABAIAAAP///wAAACH5BAEAAAAALAAAAAABAAEAAAICRAEAOw==', '/fileadmin/_processed_/0/f/csm_illustration-recherche-galette-1920x1080_a24a19d4b2.jpg', 'data:image/gif;base64,R0lGODlhAQABAIAAAP///wAAACH5BAEAAAAALAAAAAABAAEAAAICRAEAOw==', '/fileadmin/user_upload/Fichiers/entreprises/recruter-apprentis/illustration-travaux-groupe-1920x1080.jpg', 'data:image/gif;base64,R0lGODlhAQABAIAAAP///wAAACH5BAEAAAAALAAAAAABAAEAAAICRAEAOw==', '/fileadmin/user_upload/Fichiers/entreprises/illustration-innovation-abstaite-1920x1080.jpg', 'data:image/gif;base64,R0lGODlhAQABAIAAAP///wAAACH5BAEAAAAALAAAAAABAAEAAAICRAEAOw==', '/fileadmin/user_upload/Fichiers/recherche/illustration-salles-blanches-facade-exterieur-1920x1080.jpg', 'data:image/gif;base64,R0lGODlhAQABAIAAAP///wAAACH5BAEAAAAALAAAAAABAAEAAAICRAEAOw==', '/fileadmin/user_upload/Fichiers/entreprises/illustration-entretien-poignee-mains-1920x1080.jpg', 'data:image/gif;base64,R0lGODlhAQABAIAAAP///wAAACH5BAEAAAAALAAAAAABAAEAAAICRAEAOw==', '/fileadmin/_processed_/d/8/csm_HappyAtSchool_243c0a85a1.png', 'data:image/gif;base64,R0lGODlhAQABAIAAAP///wAAACH5BAEAAAAALAAAAAABAAEAAAICRAEAOw==', '/fileadmin/_processed_/0/9/csm_blank-profile-picture-bleu-400x400_00479b2092.png', 'data:image/gif;base64,R0lGODlhAQABAIAAAP///wAAACH5BAEAAAAALAAAAAABAAEAAAICRAEAOw==', '/fileadmin/_processed_/e/5/csm_blank-profile-picture-rose-400-x-400_ed015df7e9.png', 'data:image/gif;base64,R0lGODlhAQABAIAAAP///wAAACH5BAEAAAAALAAAAAABAAEAAAICRAEAOw==', '/fileadmin/_processed_/0/4/csm_blank-profile-picture-bleu2_400_x_400_97b4966771.png', 'data:image/gif;base64,R0lGODlhAQABAIAAAP///wAAACH5BAEAAAAALAAAAAABAAEAAAICRAEAOw==', '/fileadmin/_processed_/1/1/csm_blank-profile-picture-vert-400-x-400_d335e61b02.png', 'data:image/gif;base64,R0lGODlhAQABAIAAAP///wAAACH5BAEAAAAALAAAAAABAAEAAAICRAEAOw==', '/fileadmin/_processed_/0/9/csm_blank-profile-picture-bleu-400x400_00479b2092.png', 'data:image/gif;base64,R0lGODlhAQABAIAAAP///wAAACH5BAEAAAAALAAAAAABAAEAAAICRAEAOw==', '/fileadmin/_processed_/e/5/csm_blank-profile-picture-rose-400-x-400_ed015df7e9.png', 'data:image/gif;base64,R0lGODlhAQABAIAAAP///wAAACH5BAEAAAAALAAAAAABAAEAAAICRAEAOw==', '/fileadmin/_processed_/0/4/csm_blank-profile-picture-bleu2_400_x_400_97b4966771.png', 'data:image/gif;base64,R0lGODlhAQABAIAAAP///wAAACH5BAEAAAAALAAAAAABAAEAAAICRAEAOw==', '/fileadmin/_processed_/1/1/csm_blank-profile-picture-vert-400-x-400_d335e61b02.png', 'data:image/gif;base64,R0lGODlhAQABAIAAAP///wAAACH5BAEAAAAALAAAAAABAAEAAAICRAEAOw==', '/fileadmin/_processed_/0/9/csm_blank-profile-picture-bleu-400x400_00479b2092.png', 'data:image/gif;base64,R0lGODlhAQABAIAAAP///wAAACH5BAEAAAAALAAAAAABAAEAAAICRAEAOw==', '/fileadmin/_processed_/e/5/csm_blank-profile-picture-rose-400-x-400_ed015df7e9.png', 'data:image/gif;base64,R0lGODlhAQABAIAAAP///wAAACH5BAEAAAAALAAAAAABAAEAAAICRAEAOw==', '/fileadmin/_processed_/0/4/csm_blank-profile-picture-bleu2_400_x_400_97b4966771.png', 'data:image/gif;base64,R0lGODlhAQABAIAAAP///wAAACH5BAEAAAAALAAAAAABAAEAAAICRAEAOw==', '/fileadmin/_processed_/0/1/csm_CGE_RVB_c8cfe1001b.png', 'data:image/gif;base64,R0lGODlhAQABAIAAAP///wAAACH5BAEAAAAALAAAAAABAAEAAAICRAEAOw==', '/fileadmin/_processed_/a/0/csm_cti_logo.svg_64c64e06e1.png', 'data:image/gif;base64,R0lGODlhAQABAIAAAP///wAAACH5BAEAAAAALAAAAAABAAEAAAICRAEAOw==', '/fileadmin/_processed_/e/1/csm_EUR-ACE_52594b329c.png', 'data:image/gif;base64,R0lGODlhAQABAIAAAP///wAAACH5BAEAAAAALAAAAAABAAEAAAICRAEAOw==', '/fileadmin/_processed_/6/e/csm_1200px-DL_04_Dip_Ing.svg_0873c534da.png', '/typo3conf/ext/esiee_sitepackage/Resources/Public/imgs/svg/logo-esiee-footer.svg', '/typo3conf/ext/esiee_sitepackage/Resources/Public/imgs/svg/logo-cci-paris-ile-de-france-education.svg', '/typo3conf/ext/esiee_sitepackage/Resources/Public/imgs/svg/logo-univ-gustave-eiffel.svg'], 'outgoing_links': ['http://esiee.jobteaser.com/fr/recruiter_account/job_offers', 'https://www.cge.asso.fr/', 'https://www.cti-commission.fr/', 'https://www.cti-commission.fr/la-cti/demarche-qualite/systeme-qe/eur-ace', 'https://www.enseignementsup-recherche.gouv.fr/fr/labels-des-formations-controlees-par-l-etat-46088', 'https://www.facebook.com/esieeparis', 'https://www.instagram.com/esieeparis/', 'https://www.linkedin.com/edu/school?id=20041&trk=tyah&trkInfo=idx%3A4-1-4%2CtarId%3A1425998561386%2Ctas%3Aesiee+paris', 'https://twitter.com/ESIEEPARIS', 'http://www.youtube.com/esieeparis', 'https://www.cci-paris-idf.fr/fr/education', 'https://www.univ-gustave-eiffel.fr/', 'https://www.esiee.fr/actualites/classements'], 'main_text': 'ESIEE Paris, l\\'école de l\\'innovation technologique | ESIEE Paris \\n \\n \\n \\n \\n \\n \\n \\n \\n \\n \\n \\n \\n \\n \\n \\n \\n \\n \\n \\n \\n \\n \\n \\n \\n Aller au contenu \\n Aller au menu \\n Plan du site \\n \\n \\n \\n \\n \\n \\n \\n Bien choisir son école, c\\'est aussi la rencontrer  ! Rendez-vous à la prochaine journée portes ouvertes le 9 décembre. \\n \\n \\n \\n \\n \\n Masquer l\\'alerte \\n \\n \\n \\n \\n \\n \\n \\n \\n \\n \\n \\n \\n \\n \\n Brochures Espace élèves \\n \\n \\n \\n Fr \\n \\n \\n \\n \\n En \\n \\n \\n \\n \\n \\n \\n \\n \\n \\n Afficher Masquer  la recherche\\r\\n\\t\\t \\n \\n \\n \\n Saisissez votre recherche\\xa0: \\n \\n Lancer la recherche \\n \\n \\n \\n Candidater \\n \\n Afficher Masquer  le menu \\n \\n \\n \\n \\n \\n Retour au menu principal Afficher Masquer  le sous menu\\xa0:  L\\'école Pourquoi choisir ESIEE Paris ? Afficher Masquer  le sous menu\\xa0:  Gouvernance et conseils Gouvernance et conseils Conseil scientifique Afficher Masquer  le sous menu\\xa0:  Départements d\\'enseignements et de recherche Informatique et télécommunications Ingénierie des systèmes cyberphysiques Ingénierie industrielle Santé, énergie et environnement durable Management, sciences humaines et langues Corps professoral Afficher Masquer  le sous menu\\xa0:  Salles blanches Salles blanches Équipements et procédés Formation Recherche Collaborations industrielles Afficher Masquer  le sous menu\\xa0:  Alumni Le réseau Wall of fame Visite virtuelle ESIEE Paris ESIEE Paris recrute Location d\\'espaces fermer le sous menu\\xa0:L\\'école Afficher Masquer  le sous menu\\xa0:  Formations Les formations ESIEE Paris Afficher Masquer  le sous menu\\xa0:  Ingénieur Ingénieur à ESIEE Paris Le premier cycle Le cycle ingénieur Double-diplômes Afficher Masquer  le sous menu\\xa0:  Filières Nos filières Informatique Cybersécurité Data science et intelligence artificielle Artificial intelligence and cybersecurity Systèmes embarqués Systèmes électroniques intelligents Génie industriel Biotechnologies et e-santé Energie IMAC Stages Insertion professionnelle Frais de scolarité et aides financières Afficher Masquer  le sous menu\\xa0:  Ingénieur par apprentissage Devenir ingénieur par apprentissage Informatique et applications Informatique, design, architecture et développement Réseaux et sécurité Electronique et informatique Systèmes embarqués Génie industriel Génie mécanique Maintenance et fiabilité des processus industriels Énergies Génie civil Diplôme universitaire - DU Bachelor Afficher Masquer  le sous menu\\xa0:  Programmes internationaux Programmes internationaux Fillière artificial intelligence and cybersecurity M.Sc Management of technology - Information systems Licence professionnelle Afficher Masquer  le sous menu\\xa0:  Formation continue Formation continue Afficher Masquer  le sous menu\\xa0:  Programmes courts salles blanches Découverte des technologies de salles blanches Initiation aux technologies de microfabrication fermer le sous menu\\xa0:Formations Afficher Masquer  le sous menu\\xa0:  Recherche La recherche à ESIEE Paris 3 axes de recherche Projets de recherche Laboratoires Publications Plateformes et équipements Partenariats entreprise Se former à la recherche fermer le sous menu\\xa0:Recherche Afficher Masquer  le sous menu\\xa0:  Vie de campus La vie sur le campus Afficher Masquer  le sous menu\\xa0:  Services aux élèves Financer vos études Aménagements d\\'étude Assist\\'Étud et relais Handicap Santé Logements Vie associative et culturelle Afficher Masquer  le sous menu\\xa0:  Ressources Ressources numériques Espace de travail partagé Centre de langues Laboratoires d\\'enseignement Ordinateurs portables Restauration Sport fermer le sous menu\\xa0:Vie de campus Afficher Masquer  le sous menu\\xa0:  International Une large ouverture à l\\'international Partenaires académiques Etudiants en échange Partir étudier à l\\'international Programmes internationaux Organiser votre séjour à ESIEE Paris Campus à l\\'étranger fermer le sous menu\\xa0:International Afficher Masquer  le sous menu\\xa0:  Entreprises Entreprises Déposez une offre Entreprises partenaires Devenez partenaire Afficher Masquer  le sous menu\\xa0:  Recrutez des élèves Recrutez vos stagiaires Recrutez vos apprentis Développez vos projets technologiques Afficher Masquer  le sous menu\\xa0:  Soutenez ESIEE Paris Devenez mécène Versez votre taxe d\\'apprentissage Formez vos collaborateurs fermer le sous menu\\xa0:Entreprises \\n Brochures Espace élèves \\n \\n \\n \\n \\n \\n \\n \\n ESIEE Paris,  l’école de \\nl\\'innovation  technologique ESIEE Paris, n°2  des écoles d’ingénieurs post-bac  d’Ile-de-France selon le Palmarès « L’Etudiant 2023 ». Venez aux journées  portes ouvertes ESIEE Paris Bien choisir son école, c\\'est aussi  la rencontrer  ! Envie d’en savoir plus sur la réalité de la vie d’un élève en école d’ingénieurs ? Journées d\\'immersion  à ESIEE Paris  Mercredi 13 décembre 2023 ou mercredi 24 janvier 2024 Barre de recherche Afficher Masquer  la recherche\\r\\n\\t\\t Saisissez votre recherche\\xa0: Lancer la recherche Découvrez ESIEE Paris !  Une école d\\'ingénieurs spécialisée dans les domaines des transitions numériques, énergétiques et environnementales. Parmi nos illustres anciens élèves,  Marcel Dassault , fondateur du groupe Dassault Aviation et\\xa0 Yann LeCun , à l\\'origine de la révolution actuelle de l\\'intelligence artificielle. Pourquoi choisir ESIEE Paris ? \\xa0 Visite virtuelle \\n                Nos  formations Ingénieur 3 ou 5 ans, accès post-bac ou bac\\xa0+2/3  10 filières Ingénieur par apprentissage 3\\xa0 ans, accès bac\\xa0+2/3  10 filières Programmes internationaux 18 ou 24 mois, accès bachelor, bac\\xa0+4  2 programmes Bachelor 3 ans, accès post-bac  1 programme Licence professionnelle 1 an, accès bac\\xa0+2/3  1 programme Formation continue Programmes pour les professionnels Les news  de l\\'école\\n             \\n                \\n                    Portes ouvertes\\n                \\n             \\n                \\n                        09 décembre 2023                        \\n                                        \\n             ESIEE Paris vous ouvre ses portes Samedi 9 décembre 2023 | Samedi 3 février 2024 | Samedi 2 mars 2024 \\n                \\n                    Entreprises\\n                \\n             \\n                16 novembre 2023                    \\n             Forum pour l’emploi ESIEE Paris : jeudi 16 novembre 2023 Jeudi 16 novembre de 10  h à 17  h, ESIEE Paris organise son forum de recrutement annuel au sein de l’école.  \\n                \\n                    Entreprises\\n                \\n             Des élèves ESIEE Paris participent au Concours jeunes talents Orange 2023 Orange lance la 9e édition de son concours jeunes talents Orange sur le thème \"  Réduire ensemble l’impact... \\n                \\n                    Classements\\n                \\n             Classement thématique de Shanghai 2023 : L’Université Gustave Eiffel conforte sa place parmi les meilleures universités mondiales Elle se démarque, cette année encore, dans 9 classements thématiques.   \\n                \\n                    Entreprises\\n                \\n             ESIEE Paris et Dassault Systèmes créent une cordée Handimanagement En septembre dernier, ESIEE Paris a lancé une cordée Handimanagement en partenariat avec l’organisme Companieros et... \\n                \\n                    Féminisation\\n                \\n                    \\n                \\n             \\n                28 septembre 2023                    \\n             ESIEE Paris, partenaire des Trophées des femmes de l\\'industrie 2023 Jean Mairesse, Directeur Général ESIEE Paris a eu le plaisir de remettre le \" Trophée de la femme au début prometteur \". \\n                \\n                    Immersion\\n                \\n                    \\n                \\n                    \\n                \\n             \\n                \\n                        13 décembre 2023                        \\n                                        \\n             \"L’ESIEE, c\\'est l\\'adopter !\" Journées d\\'immersion à ESIEE Paris  Envie d’en savoir plus sur la réalité de la vie d’un élève en école d’ingénieurs ? \\n                \\n                    Evénements\\n                \\n             \\n                \\n                        \\n                                Du 20 septembre 2023\\n                                au 22 septembre 2023\\n                                                    \\n                                        \\n             Nouvelle édition de la Game Jam ESIEE Paris 105 élèves ESIEE Paris ont conçu et développé des jeux vidéo sur un thème original. Découvrez leurs créations. \\n                \\n                    Actualités\\n                \\n             \"\\xa0L\\'IA détruira-t-elle l\\'humanité ?\\xa0\" : une table ronde en partenariat avec Science trash Le lundi 12 juin 2023 à ESIEE Paris a eu lieu une table ronde dans le but de répondre à la question suivante : \"  L\\'IA... \\n                \\n                    Féminisation\\n                \\n                    \\n                \\n             ESIEE Paris nominé lors de la 13e édition de l\\'opération \"\\xa0ingénieuses\\xa0\" Le projet \"  Et Si Ingénieur s\\'Écrivait avec un E  \", porté par ESIEE Paris a été nominé lors de l\\'édition 2023 de \" ... \\n                \\n                    Distinctions\\n                \\n                    \\n                \\n                    \\n                \\n             Veronica Belmega, enseignante-chercheuse à ESIEE Paris, remporte un Best Paper Award Découvrez son article sur la localisation dans les réseaux GNSS via machine (deep) learning. \\n                \\n                    Entreprises\\n                \\n             Orange et ESIEE Paris signent une convention de partenariat Ce mercredi 31 mai 2023, Orange et ESIEE Paris ont signé un nouvelle convention de partenariat \\n                \\n                    Sport\\n                \\n                    \\n                \\n             Camille Fahy, étudiante à ESIEE Paris devient cycliste professionnelle Camille Fahy, étudiante en 2e année du premier cycle à ESIEE Paris a commencé le cyclisme en compétition dès l’âge de 11... \\n                \\n                    Actualités\\n                \\n                    \\n                \\n             Olivier Français est nommé nouveau doyen du corps professoral ESIEE Paris Olivier Français a été élu le jeudi 16 mars 2023 par l’ensemble de l’équipe enseignante ESIEE Paris en tant que nouveau... \\n                \\n                    Classements\\n                \\n                    \\n                \\n             L\\'université Gustave Eiffel parmi les 3% des meilleures universités au monde selon CWUR Le 15 mai 2023, le Center for World University Rankings (CWUR) a publié son classement des 2 000 meilleurs... Classements \\n                \\n                    Story\\n                \\n                    \\n                \\n             26 mai 2023 \\n                \\n                    Actualités\\n                \\n                    \\n                \\n             ESIEE Paris au coeur des nouvelles lignes du grand Paris Découvrez la future gare et les deux nouvelles lignes de métro qui desserviront la gare de Noisy-Champs. Toutes ingénieures \\n                \\n                    Story\\n                \\n                    \\n                \\n                    \\n                \\n             Toutes les actualités Un cadre unique  où étudier, près de paris Une école en forme d\\'ordinateur. Découvrez notre vaste bâtiment à l\\'architecture futuriste implanté au coeur d\\'un campus de 17 000 étudiants, conçu par l\\'architecte Dominique Perrault. Découvrir le campus Visite virtuelle En savoir plus \\n                Toutes les  filières Informatique Ingénieur Cybersécurité Ingénieur Systèmes embarqués  Transports et objets intelligents Ingénieur par apprentissage Informatique, design, architecture et développement Ingénieur par apprentissage Informatique et applications Ingénierie 3D et technologie des médias Ingénieur par apprentissage Artificial intelligence and cybersecurity Ingénieur Datascience et intelligence artificielle Ingénieur Réseaux et sécurité  Architecture et Internet des objects Ingénieur par apprentissage Systèmes embarqués Ingénieur Electronique et informatique Ingénieur par apprentissage M.Sc. Management of technology - Information systems Programmes internationaux Master in Artificial intelligence and cybersecurity Programmes internationaux Licence professionnelle Maintenance des systèmes industriels, de production et d’énergie maintenance industrielle et sûreté des process Licence professionnelle Génie industriel Ingénieur Génie industriel Supply chain et numérique Ingénieur par apprentissage Systèmes électroniques intelligents Ingénieur Génie mécanique Ingénieur par apprentissage Biotechnologies et e-santé Ingénieur Maintenance et fiabilité des processus industriels Ingénieur par apprentissage Energie Ingénieur Génie civil Ingénieur par apprentissage Bachelor Économie, Sciences et Technologies Multimédia (BEST\\'m) Bachelor Energies Ingénierie de la transition énergétique Ingénieur par apprentissage Formation d\\'ingénieur IMAC Ingénieur \\n                Vous rêvez d\\'une  expérience à l\\'étranger ? Les élèves effectuent un séjour de 4 mois minimum à l\\'étranger. Découvrir ESIEE Paris\\xa0 au coeur de la recherche 3 axes de recherche, 5 plateformes technologiques, des formations doctorales, de nombreux partenariats entreprises. Découvrir la recherche à ESIEE Paris \\n                Relations  entreprises Nos services dédiés  pour mieux vous accompagner\\n             Recrutez nos étudiants Développez vos projets technologiques Découvrez les salles blanches Soutenez nos projets 97\\xa0% \\r\\n                        des jeunes diplômés ont trouvé leur 1er emploi 6 mois après leur sortie (promo 2022) 84\\xa0% \\r\\n                        des élèves ont trouvé un contrat avant même la fin de leur formation 42\\xa0072\\xa0€ \\r\\n                        Salaire moyen d\\'embauche (brut) annuel France et international Témoignages Elève ESIEE Paris Avis certifié Happy at School \" Ce qui me plait le plus, c\\'est sans aucun doute l\\'ambiance. Les étudiants y sont tous très gentils, à l\\'écoute, et très ouverts. A cela j\\'ajoute la vie associative, riche et pleine d\\'opportunités. J\\'adore ! \" Elève ESIEE Paris Avis certifié Happy at School \" Un atout : la relation que nous avons avec les profs. Ils sont toujours là pour répondre à nos questions même hors des cours et veulent notre réussite. \" Elève ESIEE Paris Avis certifié Happy at School \" La bonne ambiance, le cadre de travail , les nombreux espaces de travail, les formations proposées et le lien avec les entreprises. \" Elève ESIEE Paris Avis certifié Happy at School \" La proximité avec le corps enseignant. Post assistance : possibilité de contacter facilement un enseignant en cas de question. \" Elève ESIEE Paris Avis certifié Happy at School \" L\\'associatif est très actif dans mon école, et nous avons un gymnase avec une salle de musculation à notre disposition. \" Elève ESIEE Paris Avis certifié Happy at School \" L’ambiance, la proximité des étudiants, les événements associatifs, culturels organisés par le BDE et par l’école (journée des entreprises, Potluck, Future Days, Octobre rose…). \" Elève ESIEE Paris Avis certifié Happy at School \" Les étudiants sont tous ouverts d’esprit et ultra bienveillants. De même pour les professeurs qui sont disponibles et à l’écoute. Je peux demander à un élève en dernière année de m’aider sur un sujet et sans hésitation, il le fera ! \" Elève ESIEE Paris Avis certifié Happy at School \" L\\'école pousse les élèves à être plus autonomes et à faire leur propre projet. Elle développe leurs qualités de leadership mais aussi artistiques pour faire des ingénieurs innovants. \" Elève ESIEE Paris Avis certifié Happy at School \" Le grand choix d\\'activités dans lesquelles s\\'engager (entreprenariat / apprentissage / associatif / double diplôme...). \"  \\xa0 Elève ESIEE Paris Avis certifié Happy at School \" Engagement important de la part des étudiants envers l\\'inclusion des autres et le maintien d\\'un sentiment de sécurité (lutte contre les VSS par ex). \" Elève ESIEE Paris Avis certifié Happy at School \" Les professeurs ont vraiment envie que les étudiants apprennent donc sont prêts à apporter leur aide en cas de besoin. Quant aux élèves, tous sont dans le respect les uns envers les autres et dans un esprit de solidarité. \" Contactez nos ambassadeurs \\n Back to the top of the page \\n \\n \\n \\n \\n \\n \\n \\n \\n \\n \\n \\n \\n \\n \\n \\n Vous avez  des questions ? \\n Etudiants, parents, entreprises... Vous souhaitez obtenir des informations,  contacter directemment nos équipes. \\n \\n Nous contacter Nous rencontrer \\n \\n \\n \\n \\n \\n \\n \\n \\n \\n \\n \\n \\n \\n \\n \\n \\n \\n \\xa0 01 45 92 65 00 \\n Nous rejoindre  27 avenue André-Marie Ampère  77420 Champs-sur-Marne   Plan d’accès \\n Envoyer un courrier  2 boulevard Blaise Pascal  Cité Descartes, BP 99  93162 Noisy-le-Grand Cedex \\n \\n \\n \\n Accès rapide Plan d\\'accès ESIEE Paris recrute Nos brochures Le Jour des Projets Visite virtuelle Etudiantes et étudiants Classement Ambassadeurs Logements Aides financières Professionnels Presse Salles blanches Location d\\'espaces Recruter nos élèves Alumni Wall of fame \\n \\n \\n \\n \\n \\n \\n \\n Mentions Légales Protection des données Plan du site \\n Gestion des cookies'}\n"
     ]
    }
   ],
   "source": [
    "if __name__ == \"__main__\":\n",
    "    custom_request = CustomRequest()\n",
    "    parsed_data = custom_request.parse_html_page(url)\n",
    "    print(parsed_data)\n",
    "\n",
    "    custom_request.parse_sitemap(url)"
   ]
  },
  {
   "cell_type": "markdown",
   "metadata": {},
   "source": [
    "# Exploitation des appels d'API\n"
   ]
  },
  {
   "cell_type": "markdown",
   "metadata": {},
   "source": [
    "\n",
    "Losque le front du site récupère des données sur une API géré par le back, un appel d'API est réalisé. Cet appel est recensé dans les appels réseaux. Il est alors possible de re-jouer cet appel pour récupérer à nouveau les données. Il est très facile de récupérer ces appels dans l'onglet Network de la console développeur de Chrome ou FireFox. La console vous permet de copier le code CURL pour effectuée et vous pouvez ensuite la transformer en code Python depuis le site https://curl.trillworks.com/.\n",
    "\n",
    "Souvent les APIs sont bloquées avec certain paramètres. L'API verifie que dans les headers de la requêtes HTTP ces paramètres sont présents : * un token généré à la volée avec des protocole OAuth2 (ou moins développés). * un referer provenant du site web (la source de la requête), très facile à falsifier.\n",
    "\n"
   ]
  },
  {
   "cell_type": "markdown",
   "metadata": {},
   "source": [
    "## Exercice \n",
    "### Exercice 4\n",
    "\n",
    "- Utiliser les informations développées plus haut pour récupérer les premiers résultats d'une recherche d'une requête\n",
    "sur Qwant. \n",
    "\n",
    "Tips : \n",
    "\n",
    "- Aller sur https://www.qwant.com/\n",
    "- Ouvrir les outils de développements de Chrome ou Firefox\n",
    "- Onglet Network\n",
    "- Fouiller dans les requêtes"
   ]
  },
  {
   "cell_type": "code",
   "execution_count": 52,
   "metadata": {},
   "outputs": [],
   "source": [
    "def search_qwant(query):\n",
    "    # URL de recherche Qwant\n",
    "    url = f\"https://www.qwant.com/?q={query}\"\n",
    "\n",
    "    # En-têtes HTTP pour simuler une requête depuis un navigateur\n",
    "    headers = {\n",
    "        'User-Agent': 'Mozilla/5.0 (Windows NT 10.0; Win64; x64) AppleWebKit/537.36 (KHTML, like Gecko) Chrome/91.0.4472.124 Safari/537.36'\n",
    "    }\n",
    "\n",
    "    # Faire la requête HTTP\n",
    "    response = requests.get(url, headers=headers)\n",
    "    response.raise_for_status()\n",
    "\n",
    "    # Analyser le contenu HTML avec BeautifulSoup\n",
    "    soup = BeautifulSoup(response.content, 'html.parser')\n",
    "\n",
    "    # Récupérer les premiers résultats (titres et liens)\n",
    "    results = []\n",
    "    for result in soup.select('.result__web'):\n",
    "        title = result.select_one('.result__title').text.strip()\n",
    "        link = result.select_one('.result__url').get('href')\n",
    "        results.append({'title': title, 'link': link})\n",
    "\n",
    "    return results"
   ]
  },
  {
   "cell_type": "code",
   "execution_count": 54,
   "metadata": {},
   "outputs": [
    {
     "ename": "AttributeError",
     "evalue": "'CustomRequest' object has no attribute 'rotate_user_agent'",
     "output_type": "error",
     "traceback": [
      "\u001b[1;31m---------------------------------------------------------------------------\u001b[0m",
      "\u001b[1;31mAttributeError\u001b[0m                            Traceback (most recent call last)",
      "\u001b[1;32mc:\\Users\\alexa\\Documents\\E4\\DataEngineerTools\\1Introduction\\Part3_Simple_Web_Scraping.ipynb Cell 47\u001b[0m line \u001b[0;36m3\n\u001b[0;32m      <a href='vscode-notebook-cell:/c%3A/Users/alexa/Documents/E4/DataEngineerTools/1Introduction/Part3_Simple_Web_Scraping.ipynb#Y101sZmlsZQ%3D%3D?line=0'>1</a>\u001b[0m urlQwant \u001b[39m=\u001b[39m \u001b[39m\"\u001b[39m\u001b[39mhttps://www.qwant.com\u001b[39m\u001b[39m\"\u001b[39m\n\u001b[0;32m      <a href='vscode-notebook-cell:/c%3A/Users/alexa/Documents/E4/DataEngineerTools/1Introduction/Part3_Simple_Web_Scraping.ipynb#Y101sZmlsZQ%3D%3D?line=1'>2</a>\u001b[0m custom_request \u001b[39m=\u001b[39m CustomRequest()\n\u001b[1;32m----> <a href='vscode-notebook-cell:/c%3A/Users/alexa/Documents/E4/DataEngineerTools/1Introduction/Part3_Simple_Web_Scraping.ipynb#Y101sZmlsZQ%3D%3D?line=2'>3</a>\u001b[0m user_agent \u001b[39m=\u001b[39m custom_request\u001b[39m.\u001b[39;49mrotate_user_agent()\n\u001b[0;32m      <a href='vscode-notebook-cell:/c%3A/Users/alexa/Documents/E4/DataEngineerTools/1Introduction/Part3_Simple_Web_Scraping.ipynb#Y101sZmlsZQ%3D%3D?line=3'>4</a>\u001b[0m headers \u001b[39m=\u001b[39m {\u001b[39m'\u001b[39m\u001b[39mUser-Agent\u001b[39m\u001b[39m'\u001b[39m: user_agent}\n\u001b[0;32m      <a href='vscode-notebook-cell:/c%3A/Users/alexa/Documents/E4/DataEngineerTools/1Introduction/Part3_Simple_Web_Scraping.ipynb#Y101sZmlsZQ%3D%3D?line=5'>6</a>\u001b[0m response \u001b[39m=\u001b[39m requests\u001b[39m.\u001b[39mget(urlQwant, headers\u001b[39m=\u001b[39mheaders)\n",
      "\u001b[1;31mAttributeError\u001b[0m: 'CustomRequest' object has no attribute 'rotate_user_agent'"
     ]
    }
   ],
   "source": [
    "urlQwant = \"https://www.qwant.com\"\n",
    "custom_request = CustomRequest()\n",
    "user_agent = custom_request.rotate_user_agent()\n",
    "headers = {'User-Agent': user_agent}\n",
    "   \n",
    "response = requests.get(urlQwant, headers=headers)\n",
    "if response.status_code == 200:\n",
    "    print(\"La requête a réussi.\")\n",
    "    soup = BeautifulSoup(response.text, 'html.parser')\n",
    "    result_titles = [result.text.strip() for result in soup.find_all('a')]\n",
    "\n",
    "    print(result_titles)"
   ]
  },
  {
   "cell_type": "markdown",
   "metadata": {},
   "source": [
    "# Exercice Final  "
   ]
  },
  {
   "cell_type": "markdown",
   "metadata": {},
   "source": [
    "Exercice Final\n",
    "Utilisez tout ce que vous avez appris pour récupérer des articles de News avec une catégorie. Il est souvent intéressant de partir des flux RSS pour commencer :\n",
    "\n",
    "Les données doivent comprendre :\n",
    "- Le texte important propre\n",
    "- L'url\n",
    "- Le domaine\n",
    "- la catégorie\n",
    "- Le titre de l'article\n",
    "- Le titre de la page\n",
    "- (Facultatif) : les images\n",
    "\n",
    "Tips : \n",
    "\n",
    "- Taper le nom de votre média favoris + RSS (par exemple : https://www.lemonde.fr/rss/)\n",
    "- Aller dans le DOM de la page \n",
    "- Trouver les catégories et les liens vers les articles"
   ]
  },
  {
   "cell_type": "code",
   "execution_count": null,
   "metadata": {},
   "outputs": [],
   "source": []
  }
 ],
 "metadata": {
  "kernelspec": {
   "display_name": "Python 3 (ipykernel)",
   "language": "python",
   "name": "python3"
  },
  "language_info": {
   "codemirror_mode": {
    "name": "ipython",
    "version": 3
   },
   "file_extension": ".py",
   "mimetype": "text/x-python",
   "name": "python",
   "nbconvert_exporter": "python",
   "pygments_lexer": "ipython3",
   "version": "3.8.18"
  }
 },
 "nbformat": 4,
 "nbformat_minor": 4
}
